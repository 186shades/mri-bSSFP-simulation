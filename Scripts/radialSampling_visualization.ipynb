{
  "nbformat": 4,
  "nbformat_minor": 0,
  "metadata": {
    "colab": {
      "provenance": []
    },
    "kernelspec": {
      "name": "python3",
      "display_name": "Python 3"
    },
    "language_info": {
      "name": "python"
    }
  },
  "cells": [
    {
      "cell_type": "code",
      "execution_count": null,
      "metadata": {
        "id": "3nV7zh9mDfH7"
      },
      "outputs": [],
      "source": [
        "import numpy as np\n",
        "import matplotlib.pyplot as plt\n",
        "from scipy.interpolate import griddata\n",
        "\n",
        "# Generate synthetic radial sampling pattern for visualization\n",
        "def visualize_radial_sampling(num_spokes=400, density=1.5, height=256):\n",
        "    # Generate radial sampling points\n",
        "    golden_angle = np.pi * (3 - np.sqrt(5))\n",
        "    radii = np.linspace(0, 1, height // 2) ** density\n",
        "    kx, ky = [], []\n",
        "    for i in range(num_spokes):\n",
        "        angle = i * golden_angle\n",
        "        for r in radii:\n",
        "            kx.append(r * np.cos(angle))\n",
        "            ky.append(r * np.sin(angle))\n",
        "    return np.array(kx), np.array(ky)\n",
        "\n",
        "# Generate synthetic Cartesian k-space for visualization\n",
        "height, width = 256, 256\n",
        "kx_cart, ky_cart = np.meshgrid(\n",
        "    np.linspace(-1, 1, height),\n",
        "    np.linspace(-1, 1, width)\n",
        ")\n",
        "kx_cart = kx_cart.flatten()\n",
        "ky_cart = ky_cart.flatten()\n",
        "cartesian_kspace = np.random.normal(size=(height, width)) + 1j * np.random.normal(size=(height, width))\n",
        "\n",
        "# Radial sampling pattern\n",
        "kx_radial, ky_radial = visualize_radial_sampling(num_spokes=400, density=1.5, height=height)\n",
        "\n",
        "# Interpolate Cartesian k-space data to radial points\n",
        "radial_kspace = griddata(\n",
        "    (kx_cart, ky_cart),\n",
        "    cartesian_kspace.flatten(),\n",
        "    (kx_radial, ky_radial),\n",
        "    method='linear',\n",
        "    fill_value=0\n",
        ")\n",
        "\n",
        "# Visualize Cartesian k-space and sampled radial k-space\n",
        "plt.figure(figsize=(15, 7))\n",
        "\n",
        "plt.subplot(1, 2, 1)\n",
        "plt.title(\"Cartesian k-space\")\n",
        "plt.scatter(kx_cart, ky_cart, c=np.abs(cartesian_kspace.flatten()), s=1, cmap='gray')\n",
        "plt.colorbar(label='Intensity')\n",
        "plt.xlabel(\"kx\")\n",
        "plt.ylabel(\"ky\")\n",
        "plt.axis(\"equal\")\n",
        "\n",
        "plt.subplot(1, 2, 2)\n",
        "plt.title(\"Radial k-space Sampling (1 slice)\")\n",
        "plt.scatter(kx_radial, ky_radial, c=np.abs(radial_kspace), s=1, cmap='gray')\n",
        "plt.colorbar(label='Intensity')\n",
        "plt.xlabel(\"kx\")\n",
        "plt.ylabel(\"ky\")\n",
        "plt.axis(\"equal\")\n",
        "\n",
        "plt.tight_layout()\n",
        "plt.show()\n"
      ]
    }
  ]
}